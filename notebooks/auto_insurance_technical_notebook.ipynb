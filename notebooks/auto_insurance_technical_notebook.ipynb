{
 "cells": [
  {
   "cell_type": "markdown",
   "metadata": {},
   "source": [
    "# Auto Insurance Analysis\n",
    "\n",
    "## Technical Notebook"
   ]
  },
  {
   "cell_type": "markdown",
   "metadata": {},
   "source": [
    "## Project Goals\n",
    "\n",
    "- Analyze auto insurance data.\n",
    "- Build a logistic regression model to predict crash probability for auto insurance customers.\n",
    "- Build a linear regression model to predict crash cost for auto insurance customers.\n",
    "- Use model results to develop crash percentage and assign customers to new risk profiles.\n",
    "- Determine cost of premiums based on risk profiles."
   ]
  },
  {
   "cell_type": "markdown",
   "metadata": {},
   "source": [
    "## Summary of Data\n",
    "\n",
    "The dataset for this project contains 6044 records of auto insurance data. Each record\n",
    "represents a customer at an auto insurance company. Using this data, we will be able to ascertain what\n",
    "influences the likelihood of a car crash. Then subsequently, we will be able to determine the cost to resolve a claim. The data in this project is the typical type of corporate data you would receive from a company in the insurance field-- a typical flat file from client records."
   ]
  },
  {
   "cell_type": "markdown",
   "metadata": {},
   "source": [
    "### Library Import"
   ]
  },
  {
   "cell_type": "code",
   "execution_count": 14,
   "metadata": {},
   "outputs": [],
   "source": [
    "#Import libraries\n",
    "%run ../python_files/imports"
   ]
  },
  {
   "cell_type": "markdown",
   "metadata": {},
   "source": [
    "### Data Import"
   ]
  },
  {
   "cell_type": "code",
   "execution_count": 15,
   "metadata": {},
   "outputs": [
    {
     "name": "stdout",
     "output_type": "stream",
     "text": [
      "['kidsdriv', 'age', 'homekids', 'yoj', 'income', 'parent1', 'home_val', 'mstatus', 'sex', 'education', 'job', 'car_use', 'car_type', 'red_car', 'oldclaim', 'clm_freq', 'revoked', 'mvr_pts', 'car_age', 'urbanicity', 'tif_log', 'bluebook_log', 'travtime_log']\n"
     ]
    }
   ],
   "source": [
    "%run ../python_files/auto_insurance_eda"
   ]
  },
  {
   "cell_type": "markdown",
   "metadata": {},
   "source": [
    "## Modeling"
   ]
  },
  {
   "cell_type": "markdown",
   "metadata": {},
   "source": [
    "### Logistic Regression Model\n",
    "\n",
    "Here, we are building a logistic regression model to predict crash probability for auto insurance customers."
   ]
  },
  {
   "cell_type": "markdown",
   "metadata": {},
   "source": [
    "##### Model Implementation"
   ]
  },
  {
   "cell_type": "code",
   "execution_count": 16,
   "metadata": {},
   "outputs": [
    {
     "name": "stdout",
     "output_type": "stream",
     "text": [
      "Optimization terminated successfully.\n",
      "         Current function value: 0.456787\n",
      "         Iterations 7\n",
      "                          Results: Logit\n",
      "==================================================================\n",
      "Model:              Logit            Pseudo R-squared: 0.211      \n",
      "Dependent Variable: crash            AIC:              4449.1279  \n",
      "Date:               2020-01-22 20:02 BIC:              4552.8661  \n",
      "No. Observations:   4835             Log-Likelihood:   -2208.6    \n",
      "Df Model:           15               LL-Null:          -2799.5    \n",
      "Df Residuals:       4819             LLR p-value:      1.2853e-242\n",
      "Converged:          1.0000           Scale:            1.0000     \n",
      "No. Iterations:     7.0000                                        \n",
      "-------------------------------------------------------------------\n",
      "               Coef.   Std.Err.     z      P>|z|    [0.025   0.975]\n",
      "-------------------------------------------------------------------\n",
      "kidsdriv       0.3073    0.0698    4.4039  0.0000   0.1705   0.4440\n",
      "parent1        0.3918    0.1182    3.3154  0.0009   0.1602   0.6234\n",
      "mstatus       -0.5873    0.0879   -6.6810  0.0000  -0.7596  -0.4150\n",
      "sex           -0.3329    0.1098   -3.0322  0.0024  -0.5480  -0.1177\n",
      "education     -0.8017    0.0789  -10.1608  0.0000  -0.9563  -0.6470\n",
      "job            0.2178    0.1295    1.6818  0.0926  -0.0360   0.4717\n",
      "car_use        0.8786    0.0863   10.1775  0.0000   0.7094   1.0479\n",
      "car_type      -0.1995    0.0964   -2.0690  0.0385  -0.3885  -0.0105\n",
      "red_car       -0.2505    0.1129   -2.2180  0.0266  -0.4718  -0.0291\n",
      "clm_freq       0.1768    0.0329    5.3735  0.0000   0.1123   0.2413\n",
      "revoked        0.6889    0.1032    6.6733  0.0000   0.4865   0.8912\n",
      "mvr_pts        0.1214    0.0174    6.9671  0.0000   0.0872   0.1555\n",
      "urbanicity     2.2786    0.1415   16.1003  0.0000   2.0012   2.5560\n",
      "tif_log       -0.2220    0.0390   -5.6871  0.0000  -0.2985  -0.1455\n",
      "bluebook_log  -0.4397    0.0292  -15.0545  0.0000  -0.4969  -0.3824\n",
      "travtime_log   0.4606    0.0628    7.3392  0.0000   0.3376   0.5837\n",
      "==================================================================\n",
      "\n"
     ]
    }
   ],
   "source": [
    "logit_model = sm.Logit(y_train_log, x_train_log)\n",
    "logit_result = logit_model.fit()\n",
    "print(logit_result.summary2())"
   ]
  },
  {
   "cell_type": "markdown",
   "metadata": {},
   "source": [
    "##### Model Fitting"
   ]
  },
  {
   "cell_type": "code",
   "execution_count": 17,
   "metadata": {},
   "outputs": [
    {
     "data": {
      "text/plain": [
       "LogisticRegression(C=1.0, class_weight=None, dual=False, fit_intercept=True,\n",
       "                   intercept_scaling=1, l1_ratio=None, max_iter=100,\n",
       "                   multi_class='warn', n_jobs=None, penalty='l2',\n",
       "                   random_state=None, solver='warn', tol=0.0001, verbose=0,\n",
       "                   warm_start=False)"
      ]
     },
     "execution_count": 17,
     "metadata": {},
     "output_type": "execute_result"
    }
   ],
   "source": [
    "logreg_model = LogisticRegression()\n",
    "logreg_model.fit(x_train_log, y_train_log)"
   ]
  },
  {
   "cell_type": "markdown",
   "metadata": {},
   "source": [
    "##### Predicting Test Set Results and Calculating Accuracy"
   ]
  },
  {
   "cell_type": "code",
   "execution_count": 18,
   "metadata": {},
   "outputs": [
    {
     "name": "stdout",
     "output_type": "stream",
     "text": [
      "Accuracy of logistic regression classifier on test set: 0.78\n"
     ]
    }
   ],
   "source": [
    "y_pred_log = logreg.predict(x_test_log)\n",
    "print('Accuracy of logistic regression classifier on test set: {:.2f}'.format(logreg.score(x_test_log, y_test_log)))"
   ]
  },
  {
   "cell_type": "markdown",
   "metadata": {},
   "source": [
    "##### Confusion Matrix"
   ]
  },
  {
   "cell_type": "code",
   "execution_count": 19,
   "metadata": {},
   "outputs": [
    {
     "name": "stdout",
     "output_type": "stream",
     "text": [
      "[[830  63]\n",
      " [200 116]]\n"
     ]
    }
   ],
   "source": [
    "confusion_matrix = confusion_matrix(y_test_log, y_pred_log)\n",
    "print(confusion_matrix)"
   ]
  },
  {
   "cell_type": "markdown",
   "metadata": {},
   "source": [
    "##### Interpretation of Results"
   ]
  },
  {
   "cell_type": "code",
   "execution_count": 20,
   "metadata": {},
   "outputs": [
    {
     "name": "stdout",
     "output_type": "stream",
     "text": [
      "              precision    recall  f1-score   support\n",
      "\n",
      "           0       0.81      0.93      0.86       893\n",
      "           1       0.65      0.37      0.47       316\n",
      "\n",
      "    accuracy                           0.78      1209\n",
      "   macro avg       0.73      0.65      0.67      1209\n",
      "weighted avg       0.76      0.78      0.76      1209\n",
      "\n"
     ]
    }
   ],
   "source": [
    "print(classification_report(y_test_log, y_pred_log))"
   ]
  },
  {
   "cell_type": "code",
   "execution_count": 21,
   "metadata": {},
   "outputs": [
    {
     "data": {
      "image/png": "[encoded data removed]",
      "text/plain": [
       "<Figure size 432x288 with 1 Axes>"
      ]
     },
     "metadata": {
      "needs_background": "light"
     },
     "output_type": "display_data"
    }
   ],
   "source": [
    "# ROC Curve\n",
    "\n",
    "logit_roc_auc = roc_auc_score(y_test_log, logreg.predict(x_test_log))\n",
    "fpr, tpr, thresholds = roc_curve(y_test_log, logreg.predict_proba(x_test_log)[:,1])\n",
    "plt.figure()\n",
    "plt.plot(fpr, tpr, label='Logistic Regression (area = %0.2f)' % logit_roc_auc)\n",
    "plt.plot([0, 1], [0, 1],'r--')\n",
    "plt.xlim([0.0, 1.0])\n",
    "plt.ylim([0.0, 1.05])\n",
    "plt.xlabel('False Positive Rate')\n",
    "plt.ylabel('True Positive Rate')\n",
    "plt.title('Receiver operating characteristic')\n",
    "plt.legend(loc=\"lower right\")\n",
    "plt.show()"
   ]
  },
  {
   "cell_type": "markdown",
   "metadata": {},
   "source": [
    "### Linear Regression Model\n",
    "\n",
    "Here, we are building a linear regression model to predict crash cost for auto insurance customers."
   ]
  },
  {
   "cell_type": "markdown",
   "metadata": {},
   "source": [
    "##### Model Implementation"
   ]
  },
  {
   "cell_type": "code",
   "execution_count": 24,
   "metadata": {},
   "outputs": [
    {
     "name": "stdout",
     "output_type": "stream",
     "text": [
      "                        Results: Ordinary least squares\n",
      "================================================================================\n",
      "Model:                  OLS              Adj. R-squared (uncentered): 0.149     \n",
      "Dependent Variable:     crash_cost       AIC:                         95191.9327\n",
      "Date:                   2020-01-22 20:14 BIC:                         95341.0564\n",
      "No. Observations:       4835             Log-Likelihood:              -47573.   \n",
      "Df Model:               23               F-statistic:                 37.81     \n",
      "Df Residuals:           4812             Prob (F-statistic):          1.95e-154 \n",
      "R-squared (uncentered): 0.153            Scale:                       2.0696e+07\n",
      "----------------------------------------------------------------------------------\n",
      "                     Coef.     Std.Err.      t      P>|t|      [0.025      0.975] \n",
      "----------------------------------------------------------------------------------\n",
      "kidsdriv            243.9663   144.5542    1.6877   0.0915    -39.4259    527.3586\n",
      "age                  -3.4762     8.6857   -0.4002   0.6890    -20.5041     13.5518\n",
      "homekids             -1.2412    82.7509   -0.0150   0.9880   -163.4708    160.9883\n",
      "yoj                  -3.4681    18.0112   -0.1925   0.8473    -38.7783     31.8422\n",
      "income               -0.0030     0.0023   -1.3291   0.1839     -0.0075      0.0014\n",
      "parent1             517.6157   259.8022    1.9923   0.0464      8.2847   1026.9468\n",
      "home_val             -0.0008     0.0008   -0.9423   0.3461     -0.0024      0.0008\n",
      "mstatus            -604.4699   193.8929   -3.1175   0.0018   -984.5887   -224.3512\n",
      "sex                 -92.1105   191.9416   -0.4799   0.6313   -468.4038    284.1828\n",
      "education          -230.7378   183.5589   -1.2570   0.2088   -590.5971    129.1215\n",
      "job                -167.3487   264.3268   -0.6331   0.5267   -685.5500    350.8527\n",
      "car_use            1032.0483   157.5531    6.5505   0.0000    723.1722   1340.9243\n",
      "car_type           -126.5657   171.0352   -0.7400   0.4593   -461.8729    208.7415\n",
      "red_car            -345.1831   197.1520   -1.7508   0.0800   -731.6912     41.3249\n",
      "oldclaim             -0.0049     0.0096   -0.5127   0.6082     -0.0236      0.0138\n",
      "clm_freq            119.8939    71.8595    1.6684   0.0953    -20.9835    260.7714\n",
      "revoked             450.9590   227.3213    1.9838   0.0473      5.3052    896.6127\n",
      "mvr_pts             189.3849    33.6556    5.6271   0.0000    123.4045    255.3654\n",
      "car_age             -28.5600    15.2860   -1.8684   0.0618    -58.5275      1.4074\n",
      "urbanicity         1506.0909   174.6669    8.6226   0.0000   1163.6640   1848.5178\n",
      "tif_log            -149.1833    68.8688   -2.1662   0.0303   -284.1975    -14.1690\n",
      "bluebook_log          1.1372    60.1322    0.0189   0.9849   -116.7495    119.0238\n",
      "travtime_log        301.7143   105.3976    2.8626   0.0042     95.0868    508.3418\n",
      "--------------------------------------------------------------------------------\n",
      "Omnibus:                6986.422          Durbin-Watson:             1.994      \n",
      "Prob(Omnibus):          0.000             Jarque-Bera (JB):          2308912.217\n",
      "Skew:                   8.667             Prob(JB):                  0.000      \n",
      "Kurtosis:               108.643           Condition No.:             912015     \n",
      "================================================================================\n",
      "* The condition number is large (9e+05). This might indicate             strong\n",
      "multicollinearity or other numerical problems.\n"
     ]
    }
   ],
   "source": [
    "linear_model = sm.OLS(y_train_lin, x_train_lin)\n",
    "linear_result = linear_model.fit()\n",
    "print(linear_result.summary2())"
   ]
  },
  {
   "cell_type": "markdown",
   "metadata": {},
   "source": [
    "##### Model Fitting"
   ]
  },
  {
   "cell_type": "code",
   "execution_count": 25,
   "metadata": {},
   "outputs": [
    {
     "data": {
      "text/plain": [
       "LinearRegression(copy_X=True, fit_intercept=True, n_jobs=None, normalize=False)"
      ]
     },
     "execution_count": 25,
     "metadata": {},
     "output_type": "execute_result"
    }
   ],
   "source": [
    "linreg_model = LinearRegression()\n",
    "linreg_model.fit(x_train_lin, y_train_lin)"
   ]
  },
  {
   "cell_type": "markdown",
   "metadata": {},
   "source": [
    "#### Model Results"
   ]
  },
  {
   "cell_type": "code",
   "execution_count": 26,
   "metadata": {},
   "outputs": [
    {
     "name": "stdout",
     "output_type": "stream",
     "text": [
      "Linear Regression R squared\": 0.0570\n"
     ]
    }
   ],
   "source": [
    "#Calculate r-squared value\n",
    "\n",
    "y_pred_lin = linreg_model.predict(x_test_lin)\n",
    "print('Linear Regression R squared\": %.4f' % linreg_model.score(x_test_lin, y_test_lin))"
   ]
  },
  {
   "cell_type": "code",
   "execution_count": 27,
   "metadata": {},
   "outputs": [
    {
     "name": "stdout",
     "output_type": "stream",
     "text": [
      "Linear Regression RMSE: 3814.3257\n"
     ]
    }
   ],
   "source": [
    "#Calculate root mean squared error (RMSE) value\n",
    "\n",
    "mse_lin = mean_squared_error(y_pred_lin, y_test_lin)\n",
    "rmse_lin = np.sqrt(mse_lin)\n",
    "print('Linear Regression RMSE: %.4f' % rmse_lin)"
   ]
  },
  {
   "cell_type": "code",
   "execution_count": 28,
   "metadata": {},
   "outputs": [
    {
     "name": "stdout",
     "output_type": "stream",
     "text": [
      "Linear Regression MAE: 1848.5311\n"
     ]
    }
   ],
   "source": [
    "#Calculate mean absolute error (MAE) value\n",
    "\n",
    "mae_lin = mean_absolute_error(y_pred_lin, y_test_lin)\n",
    "print('Linear Regression MAE: %.4f' % mae_lin)"
   ]
  },
  {
   "cell_type": "code",
   "execution_count": 29,
   "metadata": {},
   "outputs": [
    {
     "data": {
      "image/png": "[encoded data removed]",
      "text/plain": [
       "<Figure size 432x288 with 2 Axes>"
      ]
     },
     "metadata": {
      "needs_background": "light"
     },
     "output_type": "display_data"
    },
    {
     "data": {
      "text/plain": [
       "<matplotlib.axes._subplots.AxesSubplot at 0x1c22e74f28>"
      ]
     },
     "execution_count": 29,
     "metadata": {},
     "output_type": "execute_result"
    }
   ],
   "source": [
    "#Plot of Residuals\n",
    "\n",
    "visualizer = ResidualsPlot(linreg_model)\n",
    "visualizer.fit(x_train_lin, y_train_lin)  # Fit the training data to the visualizer\n",
    "visualizer.score(x_test_lin, y_test_lin)  # Evaluate the model on the test data\n",
    "visualizer.show()                         # Finalize and render the plot of residuals"
   ]
  },
  {
   "cell_type": "markdown",
   "metadata": {},
   "source": [
    "## Results and Conclusions"
   ]
  },
  {
   "cell_type": "markdown",
   "metadata": {},
   "source": [
    "compare crash_percentage vs crash_cost"
   ]
  },
  {
   "cell_type": "code",
   "execution_count": null,
   "metadata": {},
   "outputs": [],
   "source": []
  }
 ],
 "metadata": {
  "kernelspec": {
   "display_name": "Python 3",
   "language": "python",
   "name": "python3"
  },
  "language_info": {
   "codemirror_mode": {
    "name": "ipython",
    "version": 3
   },
   "file_extension": ".py",
   "mimetype": "text/x-python",
   "name": "python",
   "nbconvert_exporter": "python",
   "pygments_lexer": "ipython3",
   "version": "3.6.9"
  },
  "varInspector": {
   "cols": {
    "lenName": 16,
    "lenType": 16,
    "lenVar": 40
   },
   "kernels_config": {
    "python": {
     "delete_cmd_postfix": "",
     "delete_cmd_prefix": "del ",
     "library": "var_list.py",
     "varRefreshCmd": "print(var_dic_list())"
    },
    "r": {
     "delete_cmd_postfix": ") ",
     "delete_cmd_prefix": "rm(",
     "library": "var_list.r",
     "varRefreshCmd": "cat(var_dic_list()) "
    }
   },
   "types_to_exclude": [
    "module",
    "function",
    "builtin_function_or_method",
    "instance",
    "_Feature"
   ],
   "window_display": false
  }
 },
 "nbformat": 4,
 "nbformat_minor": 4
}
